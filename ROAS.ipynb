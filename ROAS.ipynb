{
 "cells": [
  {
   "cell_type": "code",
   "execution_count": 1,
   "id": "ef55d98e",
   "metadata": {},
   "outputs": [],
   "source": [
    "import pandas as pd\n",
    "import numpy as np\n",
    "from collections import Counter\n",
    "from collections import defaultdict\n",
    "import torch\n",
    "from torch.utils.data import Dataset, DataLoader\n",
    "import networkx as nx\n",
    "import torch.nn as nn"
   ]
  },
  {
   "cell_type": "code",
   "execution_count": 2,
   "id": "55041a90",
   "metadata": {},
   "outputs": [],
   "source": [
    "raw_data = pd.read_csv(\"./path - 副本.csv\", header=0)"
   ]
  },
  {
   "cell_type": "markdown",
   "id": "e14b249e",
   "metadata": {},
   "source": [
    "# Find out all devices\n",
    "Scan all paths and find all device types through the \"eval\" function."
   ]
  },
  {
   "cell_type": "code",
   "execution_count": 3,
   "id": "47e666b9",
   "metadata": {},
   "outputs": [],
   "source": [
    "Phone = \"Phone\"\n",
    "PC = \"PC\"\n",
    "TV = \"TV\"\n",
    "Tablet = \"Tablet\"\n",
    "Unknown = \"Unknown\"\n",
    "Robot = \"Robot\""
   ]
  },
  {
   "cell_type": "code",
   "execution_count": 4,
   "id": "f1e36e31",
   "metadata": {},
   "outputs": [],
   "source": [
    "for _ in range(len(raw_data)):\n",
    "    try: \n",
    "        eval(raw_data.loc[_, 'path'])\n",
    "    except NameError:\n",
    "        print(raw_data.loc[_, 'path'])"
   ]
  },
  {
   "cell_type": "markdown",
   "id": "b2a0d470",
   "metadata": {},
   "source": [
    "# process raw data\n",
    "Process raw data for next steps."
   ]
  },
  {
   "cell_type": "code",
   "execution_count": 5,
   "id": "5d2a3606",
   "metadata": {},
   "outputs": [],
   "source": [
    "def fun(row):\n",
    "    return [_[1]for _ in eval(row)]"
   ]
  },
  {
   "cell_type": "code",
   "execution_count": 6,
   "id": "a0af483b",
   "metadata": {},
   "outputs": [],
   "source": [
    "processed = raw_data['path'].apply(fun)"
   ]
  },
  {
   "cell_type": "code",
   "execution_count": 7,
   "id": "b3115982",
   "metadata": {},
   "outputs": [],
   "source": [
    "processed_data = pd.concat([processed, raw_data[['impressions', 'cost', 'sales']]], axis=1)"
   ]
  },
  {
   "cell_type": "markdown",
   "id": "afcd9e58",
   "metadata": {},
   "source": [
    "# Try to learn about path data\n",
    "Use the Counter() function to calculate the number of occurrences of each string"
   ]
  },
  {
   "cell_type": "code",
   "execution_count": 8,
   "id": "254a79f5",
   "metadata": {
    "scrolled": true
   },
   "outputs": [
    {
     "name": "stdout",
     "output_type": "stream",
     "text": [
      "'Phone' appears 254615 times.\n",
      "'PC' appears 268162 times.\n",
      "'TV' appears 1233 times.\n",
      "'Tablet' appears 15945 times.\n",
      "'Unknown' appears 32 times.\n",
      "'Robot' appears 3 times.\n"
     ]
    }
   ],
   "source": [
    "device_list = []\n",
    "for path in processed_data['path']:\n",
    "    device_list += path\n",
    "\n",
    "device_count = Counter(device_list)\n",
    "\n",
    "for device, count in device_count.items():\n",
    "    print(f\"'{device}' appears {count} times.\")"
   ]
  },
  {
   "cell_type": "markdown",
   "id": "6b922ee5",
   "metadata": {},
   "source": [
    "Compared to 'Phone', 'PC', 'TV' and 'Tablet', I drop \"Unknown\" and \"Robot\"."
   ]
  },
  {
   "cell_type": "markdown",
   "id": "d08c8117",
   "metadata": {},
   "source": [
    "# find Out Notnull Data"
   ]
  },
  {
   "cell_type": "code",
   "execution_count": 9,
   "id": "d3be2c96",
   "metadata": {},
   "outputs": [],
   "source": [
    "notnull = processed_data[processed_data['sales'].notnull()]"
   ]
  },
  {
   "cell_type": "code",
   "execution_count": 10,
   "id": "0069f94d",
   "metadata": {},
   "outputs": [
    {
     "data": {
      "text/html": [
       "<div>\n",
       "<style scoped>\n",
       "    .dataframe tbody tr th:only-of-type {\n",
       "        vertical-align: middle;\n",
       "    }\n",
       "\n",
       "    .dataframe tbody tr th {\n",
       "        vertical-align: top;\n",
       "    }\n",
       "\n",
       "    .dataframe thead th {\n",
       "        text-align: right;\n",
       "    }\n",
       "</style>\n",
       "<table border=\"1\" class=\"dataframe\">\n",
       "  <thead>\n",
       "    <tr style=\"text-align: right;\">\n",
       "      <th></th>\n",
       "      <th>path</th>\n",
       "      <th>impressions</th>\n",
       "      <th>cost</th>\n",
       "      <th>sales</th>\n",
       "    </tr>\n",
       "  </thead>\n",
       "  <tbody>\n",
       "    <tr>\n",
       "      <th>22</th>\n",
       "      <td>[PC, PC, Phone, Phone, Phone, Phone, Phone, Ph...</td>\n",
       "      <td>384</td>\n",
       "      <td>1.12180</td>\n",
       "      <td>10.26</td>\n",
       "    </tr>\n",
       "    <tr>\n",
       "      <th>29</th>\n",
       "      <td>[Phone, Phone, Phone, Phone, Phone, Phone, Pho...</td>\n",
       "      <td>180</td>\n",
       "      <td>0.55064</td>\n",
       "      <td>42.40</td>\n",
       "    </tr>\n",
       "    <tr>\n",
       "      <th>52</th>\n",
       "      <td>[Phone, Phone, Phone, Phone, Phone, Phone, Pho...</td>\n",
       "      <td>378</td>\n",
       "      <td>1.17496</td>\n",
       "      <td>70.28</td>\n",
       "    </tr>\n",
       "    <tr>\n",
       "      <th>66</th>\n",
       "      <td>[Phone, Phone, Phone, Phone, Phone, Phone, Pho...</td>\n",
       "      <td>360</td>\n",
       "      <td>1.08703</td>\n",
       "      <td>78.71</td>\n",
       "    </tr>\n",
       "    <tr>\n",
       "      <th>70</th>\n",
       "      <td>[Phone, Phone, Phone, Phone, Phone, Phone, Pho...</td>\n",
       "      <td>5544</td>\n",
       "      <td>14.50251</td>\n",
       "      <td>259.35</td>\n",
       "    </tr>\n",
       "    <tr>\n",
       "      <th>76</th>\n",
       "      <td>[Phone, Phone, PC, PC, Phone]</td>\n",
       "      <td>8960</td>\n",
       "      <td>23.57667</td>\n",
       "      <td>146.65</td>\n",
       "    </tr>\n",
       "    <tr>\n",
       "      <th>78</th>\n",
       "      <td>[PC, PC, PC, Phone, Phone, PC, Phone]</td>\n",
       "      <td>896</td>\n",
       "      <td>2.42499</td>\n",
       "      <td>19.83</td>\n",
       "    </tr>\n",
       "    <tr>\n",
       "      <th>159</th>\n",
       "      <td>[Phone, Phone, Phone, Phone, Phone, Phone, Pho...</td>\n",
       "      <td>1200</td>\n",
       "      <td>3.38102</td>\n",
       "      <td>74.68</td>\n",
       "    </tr>\n",
       "    <tr>\n",
       "      <th>168</th>\n",
       "      <td>[Phone, Phone, PC, PC, PC, Phone, Phone, Phone...</td>\n",
       "      <td>1359</td>\n",
       "      <td>4.08448</td>\n",
       "      <td>382.86</td>\n",
       "    </tr>\n",
       "    <tr>\n",
       "      <th>179</th>\n",
       "      <td>[Phone, Phone, Phone, Phone, Phone, Phone, Pho...</td>\n",
       "      <td>22154</td>\n",
       "      <td>58.13893</td>\n",
       "      <td>1936.04</td>\n",
       "    </tr>\n",
       "  </tbody>\n",
       "</table>\n",
       "</div>"
      ],
      "text/plain": [
       "                                                  path  impressions      cost  \\\n",
       "22   [PC, PC, Phone, Phone, Phone, Phone, Phone, Ph...          384   1.12180   \n",
       "29   [Phone, Phone, Phone, Phone, Phone, Phone, Pho...          180   0.55064   \n",
       "52   [Phone, Phone, Phone, Phone, Phone, Phone, Pho...          378   1.17496   \n",
       "66   [Phone, Phone, Phone, Phone, Phone, Phone, Pho...          360   1.08703   \n",
       "70   [Phone, Phone, Phone, Phone, Phone, Phone, Pho...         5544  14.50251   \n",
       "76                       [Phone, Phone, PC, PC, Phone]         8960  23.57667   \n",
       "78               [PC, PC, PC, Phone, Phone, PC, Phone]          896   2.42499   \n",
       "159  [Phone, Phone, Phone, Phone, Phone, Phone, Pho...         1200   3.38102   \n",
       "168  [Phone, Phone, PC, PC, PC, Phone, Phone, Phone...         1359   4.08448   \n",
       "179  [Phone, Phone, Phone, Phone, Phone, Phone, Pho...        22154  58.13893   \n",
       "\n",
       "       sales  \n",
       "22     10.26  \n",
       "29     42.40  \n",
       "52     70.28  \n",
       "66     78.71  \n",
       "70    259.35  \n",
       "76    146.65  \n",
       "78     19.83  \n",
       "159    74.68  \n",
       "168   382.86  \n",
       "179  1936.04  "
      ]
     },
     "execution_count": 10,
     "metadata": {},
     "output_type": "execute_result"
    }
   ],
   "source": [
    "notnull.head(10)"
   ]
  },
  {
   "cell_type": "markdown",
   "id": "7b85d961",
   "metadata": {},
   "source": [
    "# Build Global Weight Graph"
   ]
  },
  {
   "attachments": {
    "%E6%96%B0%E5%BB%BA%20Microsoft%20Visio%20Drawing-2.png": {
     "image/png": "[encoded data removed]"
    }
   },
   "cell_type": "markdown",
   "id": "75725b24",
   "metadata": {},
   "source": [
    "![%E6%96%B0%E5%BB%BA%20Microsoft%20Visio%20Drawing-2.png](attachment:%E6%96%B0%E5%BB%BA%20Microsoft%20Visio%20Drawing-2.png)"
   ]
  },
  {
   "cell_type": "markdown",
   "id": "61eb7cb7",
   "metadata": {},
   "source": [
    "As shown in the picture, we build the global graph through the following steps:\n",
    "1. Read one path from all paths one by one, for example, ['Phone', 'PC', 'TV', 'Tablet'].\n",
    "2. Scan the selected path from left to right, if there are no edges between two devices, add an edge to their node and set the weight of this edge as 1/k. K is the distance between the relative positions of these two devices in the selected path. For example, k of (Phone, PC) is 1, k of (Phone, TV) is 2, k of (Phone, Tablet) is 3; k of (PC, TV) is 1, k of (PC, Tablet) is 2; k of (TV, Tablet) is 1.\n",
    "3. if there is a edge between two devices, revise the weight to \"weight + 1/k\"\n"
   ]
  },
  {
   "cell_type": "markdown",
   "id": "a96047f2",
   "metadata": {},
   "source": [
    "The function of a global graph is to calculate the weight of jumps between different devices."
   ]
  },
  {
   "cell_type": "code",
   "execution_count": 11,
   "id": "9a3ea6c5",
   "metadata": {},
   "outputs": [],
   "source": [
    "# G = nx.Graph() # Undirected graphs with self loops\n",
    "G = nx.DiGraph() # Directed graphs with self loops\n",
    "nodes = ['Phone', 'PC', 'TV', 'Tablet']\n",
    "G.add_nodes_from(nodes)"
   ]
  },
  {
   "cell_type": "code",
   "execution_count": 12,
   "id": "b3fd08c2",
   "metadata": {},
   "outputs": [],
   "source": [
    "def update_graph(tmp):\n",
    "    for i in range(len(tmp)):\n",
    "        for j in range(i+1, len(tmp)):\n",
    "            x, y = tmp[i], tmp[j]\n",
    "            if x in ['Unknown', 'Robot'] or y in ['Unknown', 'Robot']:\n",
    "                continue\n",
    "            dist = abs(j - i)\n",
    "            if G.has_edge(x, y):\n",
    "                G[x][y]['weight'] += 1.0 / dist\n",
    "            else:\n",
    "                G.add_edge(x, y, weight=1.0 / dist)"
   ]
  },
  {
   "cell_type": "code",
   "execution_count": 13,
   "id": "3e6a5de0",
   "metadata": {},
   "outputs": [],
   "source": [
    "def norm_graph(Graph):\n",
    "    # 将边的权重进行归一化\n",
    "    data = []\n",
    "    for edge in Graph.edges:\n",
    "        data.append(Graph[edge[0]][edge[1]]['weight'])\n",
    "    min_value = np.min(data)\n",
    "    max_value = np.max(data)\n",
    "    # 归一化数据\n",
    "    normalized_data = (data - min_value) / (max_value - min_value)\n",
    "    for i, edge in enumerate(Graph.edges):\n",
    "        Graph[edge[0]][edge[1]]['weight'] =  normalized_data.tolist()[i]\n",
    "    return Graph"
   ]
  },
  {
   "cell_type": "code",
   "execution_count": 14,
   "id": "5dfe2ff3",
   "metadata": {},
   "outputs": [],
   "source": [
    "for _ in range(len(processed_data)): # 全局图\n",
    "    tmp = processed_data.iloc[_]['path']\n",
    "    update_graph(tmp)\n",
    "# G = norm_graph(G)"
   ]
  },
  {
   "cell_type": "code",
   "execution_count": 15,
   "id": "a5ce7218",
   "metadata": {
    "scrolled": true
   },
   "outputs": [
    {
     "name": "stdout",
     "output_type": "stream",
     "text": [
      "Nodes: ['Phone', 'PC', 'TV', 'Tablet']\n",
      "Edges: [('Phone', 'Phone'), ('Phone', 'PC'), ('Phone', 'Tablet'), ('Phone', 'TV'), ('PC', 'PC'), ('PC', 'Phone'), ('PC', 'Tablet'), ('PC', 'TV'), ('TV', 'TV'), ('TV', 'Phone'), ('TV', 'PC'), ('Tablet', 'Tablet'), ('Tablet', 'PC'), ('Tablet', 'Phone'), ('Tablet', 'TV')]\n",
      "Phone->Phone: 758868.5344321659\n",
      "Phone->PC: 106112.70489348203\n",
      "Phone->Tablet: 4677.257512029583\n",
      "Phone->TV: 91.99173881673882\n",
      "PC->PC: 749674.1689984788\n",
      "PC->Phone: 97787.71073565212\n",
      "PC->Tablet: 3641.1637615032164\n",
      "PC->TV: 11.950000000000001\n",
      "TV->TV: 3423.234911820899\n",
      "TV->Phone: 107.34087301587303\n",
      "TV->PC: 25.326190476190472\n",
      "Tablet->Tablet: 33232.01981385865\n",
      "Tablet->PC: 3244.2430981819175\n",
      "Tablet->Phone: 3949.7183252263126\n",
      "Tablet->TV: 1.0\n"
     ]
    }
   ],
   "source": [
    "# 访问节点和边\n",
    "print('Nodes:', G.nodes)\n",
    "print('Edges:', G.edges)\n",
    "for edge in G.edges:\n",
    "    print(f\"{edge[0]}->{edge[1]}: {G[edge[0]][edge[1]]['weight']}\")"
   ]
  },
  {
   "cell_type": "markdown",
   "id": "8c8d475e",
   "metadata": {},
   "source": []
  },
  {
   "cell_type": "markdown",
   "id": "3b8614ca",
   "metadata": {},
   "source": [
    "# calculate weight for every path"
   ]
  },
  {
   "cell_type": "code",
   "execution_count": 16,
   "id": "716e3651",
   "metadata": {},
   "outputs": [],
   "source": [
    "def cal_weights(test):\n",
    "    weights = 0.0\n",
    "    for i in range(len(test)-1):\n",
    "        x, y = test[i], test[i+1]\n",
    "        if x in ['Unknown', 'Robot'] or y in ['Unknown', 'Robot']:\n",
    "            continue\n",
    "        weights += G[x][y]['weight']\n",
    "    return weights"
   ]
  },
  {
   "cell_type": "code",
   "execution_count": 17,
   "id": "2b3c0596",
   "metadata": {},
   "outputs": [],
   "source": [
    "add_weights_to_data = notnull['path'].apply(cal_weights)"
   ]
  },
  {
   "cell_type": "code",
   "execution_count": 18,
   "id": "fb2df602",
   "metadata": {},
   "outputs": [],
   "source": [
    "encoded_data = pd.concat([add_weights_to_data, notnull[['impressions', 'cost', 'sales']]], axis=1)"
   ]
  },
  {
   "cell_type": "code",
   "execution_count": 19,
   "id": "1ff87aba",
   "metadata": {},
   "outputs": [],
   "source": [
    "train_test = encoded_data"
   ]
  },
  {
   "cell_type": "code",
   "execution_count": 20,
   "id": "ca90874b",
   "metadata": {},
   "outputs": [
    {
     "data": {
      "text/html": [
       "<div>\n",
       "<style scoped>\n",
       "    .dataframe tbody tr th:only-of-type {\n",
       "        vertical-align: middle;\n",
       "    }\n",
       "\n",
       "    .dataframe tbody tr th {\n",
       "        vertical-align: top;\n",
       "    }\n",
       "\n",
       "    .dataframe thead th {\n",
       "        text-align: right;\n",
       "    }\n",
       "</style>\n",
       "<table border=\"1\" class=\"dataframe\">\n",
       "  <thead>\n",
       "    <tr style=\"text-align: right;\">\n",
       "      <th></th>\n",
       "      <th>path</th>\n",
       "      <th>impressions</th>\n",
       "      <th>cost</th>\n",
       "      <th>sales</th>\n",
       "    </tr>\n",
       "  </thead>\n",
       "  <tbody>\n",
       "    <tr>\n",
       "      <th>22</th>\n",
       "      <td>2.285465e+07</td>\n",
       "      <td>384</td>\n",
       "      <td>1.12180</td>\n",
       "      <td>10.26</td>\n",
       "    </tr>\n",
       "    <tr>\n",
       "      <th>29</th>\n",
       "      <td>2.069335e+07</td>\n",
       "      <td>180</td>\n",
       "      <td>0.55064</td>\n",
       "      <td>42.40</td>\n",
       "    </tr>\n",
       "    <tr>\n",
       "      <th>52</th>\n",
       "      <td>1.157773e+07</td>\n",
       "      <td>378</td>\n",
       "      <td>1.17496</td>\n",
       "      <td>70.28</td>\n",
       "    </tr>\n",
       "    <tr>\n",
       "      <th>66</th>\n",
       "      <td>9.273545e+06</td>\n",
       "      <td>360</td>\n",
       "      <td>1.08703</td>\n",
       "      <td>78.71</td>\n",
       "    </tr>\n",
       "    <tr>\n",
       "      <th>70</th>\n",
       "      <td>1.904760e+08</td>\n",
       "      <td>5544</td>\n",
       "      <td>14.50251</td>\n",
       "      <td>259.35</td>\n",
       "    </tr>\n",
       "  </tbody>\n",
       "</table>\n",
       "</div>"
      ],
      "text/plain": [
       "            path  impressions      cost   sales\n",
       "22  2.285465e+07          384   1.12180   10.26\n",
       "29  2.069335e+07          180   0.55064   42.40\n",
       "52  1.157773e+07          378   1.17496   70.28\n",
       "66  9.273545e+06          360   1.08703   78.71\n",
       "70  1.904760e+08         5544  14.50251  259.35"
      ]
     },
     "execution_count": 20,
     "metadata": {},
     "output_type": "execute_result"
    }
   ],
   "source": [
    "train_test.head(5)"
   ]
  },
  {
   "cell_type": "code",
   "execution_count": 21,
   "id": "bf9d8a18",
   "metadata": {},
   "outputs": [
    {
     "name": "stdout",
     "output_type": "stream",
     "text": [
      "[[ 1.         -0.06320757 -0.06226848 -0.04197209]\n",
      " [-0.06320757  1.          0.99707325  0.63581188]\n",
      " [-0.06226848  0.99707325  1.          0.65478343]\n",
      " [-0.04197209  0.63581188  0.65478343  1.        ]]\n"
     ]
    }
   ],
   "source": [
    "import numpy as np\n",
    "\n",
    "corr_matrix = np.corrcoef(train_test.values.T)\n",
    "print(corr_matrix)"
   ]
  },
  {
   "cell_type": "code",
   "execution_count": 22,
   "id": "16f37d07",
   "metadata": {},
   "outputs": [
    {
     "data": {
      "text/html": [
       "<div>\n",
       "<style scoped>\n",
       "    .dataframe tbody tr th:only-of-type {\n",
       "        vertical-align: middle;\n",
       "    }\n",
       "\n",
       "    .dataframe tbody tr th {\n",
       "        vertical-align: top;\n",
       "    }\n",
       "\n",
       "    .dataframe thead th {\n",
       "        text-align: right;\n",
       "    }\n",
       "</style>\n",
       "<table border=\"1\" class=\"dataframe\">\n",
       "  <thead>\n",
       "    <tr style=\"text-align: right;\">\n",
       "      <th></th>\n",
       "      <th>path</th>\n",
       "      <th>impressions</th>\n",
       "      <th>cost</th>\n",
       "    </tr>\n",
       "  </thead>\n",
       "  <tbody>\n",
       "    <tr>\n",
       "      <th>22</th>\n",
       "      <td>2.285465e+07</td>\n",
       "      <td>384</td>\n",
       "      <td>1.12180</td>\n",
       "    </tr>\n",
       "    <tr>\n",
       "      <th>29</th>\n",
       "      <td>2.069335e+07</td>\n",
       "      <td>180</td>\n",
       "      <td>0.55064</td>\n",
       "    </tr>\n",
       "    <tr>\n",
       "      <th>52</th>\n",
       "      <td>1.157773e+07</td>\n",
       "      <td>378</td>\n",
       "      <td>1.17496</td>\n",
       "    </tr>\n",
       "    <tr>\n",
       "      <th>66</th>\n",
       "      <td>9.273545e+06</td>\n",
       "      <td>360</td>\n",
       "      <td>1.08703</td>\n",
       "    </tr>\n",
       "    <tr>\n",
       "      <th>70</th>\n",
       "      <td>1.904760e+08</td>\n",
       "      <td>5544</td>\n",
       "      <td>14.50251</td>\n",
       "    </tr>\n",
       "    <tr>\n",
       "      <th>...</th>\n",
       "      <td>...</td>\n",
       "      <td>...</td>\n",
       "      <td>...</td>\n",
       "    </tr>\n",
       "    <tr>\n",
       "      <th>20433</th>\n",
       "      <td>5.463853e+07</td>\n",
       "      <td>51246</td>\n",
       "      <td>142.05175</td>\n",
       "    </tr>\n",
       "    <tr>\n",
       "      <th>20454</th>\n",
       "      <td>1.689901e+07</td>\n",
       "      <td>475</td>\n",
       "      <td>1.65165</td>\n",
       "    </tr>\n",
       "    <tr>\n",
       "      <th>20456</th>\n",
       "      <td>7.006134e+06</td>\n",
       "      <td>588</td>\n",
       "      <td>1.65842</td>\n",
       "    </tr>\n",
       "    <tr>\n",
       "      <th>20459</th>\n",
       "      <td>7.658890e+06</td>\n",
       "      <td>1068</td>\n",
       "      <td>2.84601</td>\n",
       "    </tr>\n",
       "    <tr>\n",
       "      <th>20471</th>\n",
       "      <td>1.819425e+06</td>\n",
       "      <td>1668</td>\n",
       "      <td>4.70001</td>\n",
       "    </tr>\n",
       "  </tbody>\n",
       "</table>\n",
       "<p>1452 rows × 3 columns</p>\n",
       "</div>"
      ],
      "text/plain": [
       "               path  impressions       cost\n",
       "22     2.285465e+07          384    1.12180\n",
       "29     2.069335e+07          180    0.55064\n",
       "52     1.157773e+07          378    1.17496\n",
       "66     9.273545e+06          360    1.08703\n",
       "70     1.904760e+08         5544   14.50251\n",
       "...             ...          ...        ...\n",
       "20433  5.463853e+07        51246  142.05175\n",
       "20454  1.689901e+07          475    1.65165\n",
       "20456  7.006134e+06          588    1.65842\n",
       "20459  7.658890e+06         1068    2.84601\n",
       "20471  1.819425e+06         1668    4.70001\n",
       "\n",
       "[1452 rows x 3 columns]"
      ]
     },
     "execution_count": 22,
     "metadata": {},
     "output_type": "execute_result"
    }
   ],
   "source": [
    "train_test[['path', 'impressions', 'cost']]"
   ]
  },
  {
   "cell_type": "code",
   "execution_count": 23,
   "id": "95f57201",
   "metadata": {},
   "outputs": [
    {
     "name": "stdout",
     "output_type": "stream",
     "text": [
      "DecisionTreeRegressor R2 score: 0.946723\n",
      "DecisionTreeRegressor MAE score: 161.732680\n",
      "DecisionTreeRegressor MSE score: 135941.945116\n",
      "RandomForestRegressor R2 score: 0.967057\n",
      "RandomForestRegressor MAE score: 130.889527\n",
      "RandomForestRegressor MSE score: 84058.444086\n"
     ]
    }
   ],
   "source": [
    "from sklearn.tree import DecisionTreeRegressor\n",
    "from sklearn.model_selection import train_test_split\n",
    "from sklearn.metrics import r2_score, mean_absolute_error, mean_squared_error\n",
    "from sklearn.tree import DecisionTreeRegressor\n",
    "from sklearn.ensemble import RandomForestRegressor\n",
    "from sklearn.svm import SVR\n",
    "\n",
    "X = train_test[['path', 'impressions', 'cost']]\n",
    "y = train_test['sales'] \n",
    "X_train, X_test, y_train, y_test = train_test_split(X, y, test_size=0.2, random_state=42)\n",
    "\n",
    "model = DecisionTreeRegressor(random_state=0)\n",
    "model.fit(X_train, y_train)\n",
    "y_pred = model.predict(X_test)\n",
    "score = r2_score(y_test, y_pred)\n",
    "print(\"DecisionTreeRegressor R2 score: {:.6f}\".format(score))\n",
    "score = mean_absolute_error(y_test, y_pred)\n",
    "print(\"DecisionTreeRegressor MAE score: {:.6f}\".format(score))\n",
    "score = mean_squared_error(y_test, y_pred)\n",
    "print(\"DecisionTreeRegressor MSE score: {:.6f}\".format(score))\n",
    "\n",
    "# 创建随机森林回归器对象\n",
    "rf = RandomForestRegressor(n_estimators=100, random_state=42)\n",
    "# 使用训练集训练模型\n",
    "rf.fit(X_train, y_train)\n",
    "y_pred = rf.predict(X_test)\n",
    "score = r2_score(y_test, y_pred)\n",
    "print(\"RandomForestRegressor R2 score: {:.6f}\".format(score))\n",
    "score = mean_absolute_error(y_test, y_pred)\n",
    "print(\"RandomForestRegressor MAE score: {:.6f}\".format(score))\n",
    "score = mean_squared_error(y_test, y_pred)\n",
    "print(\"RandomForestRegressor MSE score: {:.6f}\".format(score))"
   ]
  },
  {
   "cell_type": "code",
   "execution_count": 24,
   "id": "16a45c2c",
   "metadata": {},
   "outputs": [],
   "source": [
    "# from sklearn.model_selection import GridSearchCV\n",
    "# svr = SVR()\n",
    "\n",
    "# param_grid={\n",
    "#     'kernel': ['linear', 'poly', 'rbf', 'sigmoid', 'precomputed'],\n",
    "#             'C': [1.0, 5.4],\n",
    "#             'epsilon': [0.0001, 0.001, 0.01, 0.1, 1, 2],\n",
    "#             'gamma': [0.0001, 0.001, 0.01, 0.1]\n",
    "#         }\n",
    "\n",
    "# grid = GridSearchCV(\n",
    "# estimator=svr,\n",
    "#         param_grid=param_grid,\n",
    "#         cv=3, scoring='r2', verbose=3, n_jobs=-1)\n",
    "\n",
    "# grid.fit(X_train,y_train)\n",
    "\n",
    "\n",
    "# #print the best parameters from all possible combinations\n",
    "# print(\"best parameters are: \", grid.best_params_)\n",
    "# new_svr = grid.best_estimator_ \n",
    "# y_pred = new_svr.predict(X_test)\n",
    "# score = r2_score(y_test, y_pred)\n",
    "# print(\"new_SVR R2 score: {:.6f}\".format(score))"
   ]
  },
  {
   "cell_type": "markdown",
   "id": "78a5e131",
   "metadata": {},
   "source": [
    "# Generate pseudo label for null"
   ]
  },
  {
   "cell_type": "code",
   "execution_count": 25,
   "id": "83928e98",
   "metadata": {},
   "outputs": [],
   "source": [
    "null_ = processed_data[processed_data['sales'].isnull()]"
   ]
  },
  {
   "cell_type": "code",
   "execution_count": 26,
   "id": "6f0b536b",
   "metadata": {
    "scrolled": true
   },
   "outputs": [
    {
     "data": {
      "text/html": [
       "<div>\n",
       "<style scoped>\n",
       "    .dataframe tbody tr th:only-of-type {\n",
       "        vertical-align: middle;\n",
       "    }\n",
       "\n",
       "    .dataframe tbody tr th {\n",
       "        vertical-align: top;\n",
       "    }\n",
       "\n",
       "    .dataframe thead th {\n",
       "        text-align: right;\n",
       "    }\n",
       "</style>\n",
       "<table border=\"1\" class=\"dataframe\">\n",
       "  <thead>\n",
       "    <tr style=\"text-align: right;\">\n",
       "      <th></th>\n",
       "      <th>path</th>\n",
       "      <th>impressions</th>\n",
       "      <th>cost</th>\n",
       "      <th>sales</th>\n",
       "    </tr>\n",
       "  </thead>\n",
       "  <tbody>\n",
       "    <tr>\n",
       "      <th>0</th>\n",
       "      <td>[Phone, Phone, Phone, Phone, Phone, Phone, Pho...</td>\n",
       "      <td>90</td>\n",
       "      <td>0.26882</td>\n",
       "      <td>NaN</td>\n",
       "    </tr>\n",
       "    <tr>\n",
       "      <th>1</th>\n",
       "      <td>[PC, PC, PC, PC, PC, PC, PC, PC, PC, PC, PC, P...</td>\n",
       "      <td>180</td>\n",
       "      <td>0.47130</td>\n",
       "      <td>NaN</td>\n",
       "    </tr>\n",
       "    <tr>\n",
       "      <th>2</th>\n",
       "      <td>[Phone, PC, PC, Phone, PC, PC, PC, PC, PC, PC,...</td>\n",
       "      <td>36</td>\n",
       "      <td>0.10622</td>\n",
       "      <td>NaN</td>\n",
       "    </tr>\n",
       "    <tr>\n",
       "      <th>3</th>\n",
       "      <td>[PC, PC, Phone, PC, Phone, PC, PC, PC, PC, PC,...</td>\n",
       "      <td>60</td>\n",
       "      <td>0.14821</td>\n",
       "      <td>NaN</td>\n",
       "    </tr>\n",
       "    <tr>\n",
       "      <th>4</th>\n",
       "      <td>[PC, Phone, Phone, Phone, PC, PC, PC, PC, PC, ...</td>\n",
       "      <td>36</td>\n",
       "      <td>0.10069</td>\n",
       "      <td>NaN</td>\n",
       "    </tr>\n",
       "  </tbody>\n",
       "</table>\n",
       "</div>"
      ],
      "text/plain": [
       "                                                path  impressions     cost  \\\n",
       "0  [Phone, Phone, Phone, Phone, Phone, Phone, Pho...           90  0.26882   \n",
       "1  [PC, PC, PC, PC, PC, PC, PC, PC, PC, PC, PC, P...          180  0.47130   \n",
       "2  [Phone, PC, PC, Phone, PC, PC, PC, PC, PC, PC,...           36  0.10622   \n",
       "3  [PC, PC, Phone, PC, Phone, PC, PC, PC, PC, PC,...           60  0.14821   \n",
       "4  [PC, Phone, Phone, Phone, PC, PC, PC, PC, PC, ...           36  0.10069   \n",
       "\n",
       "   sales  \n",
       "0    NaN  \n",
       "1    NaN  \n",
       "2    NaN  \n",
       "3    NaN  \n",
       "4    NaN  "
      ]
     },
     "execution_count": 26,
     "metadata": {},
     "output_type": "execute_result"
    }
   ],
   "source": [
    "null_.head(5)"
   ]
  },
  {
   "cell_type": "code",
   "execution_count": 27,
   "id": "ec4dd8e2",
   "metadata": {},
   "outputs": [],
   "source": [
    "convert_ = null_['path'].apply(cal_weights)"
   ]
  },
  {
   "cell_type": "code",
   "execution_count": 28,
   "id": "15f7cde4",
   "metadata": {},
   "outputs": [],
   "source": [
    "convert_data = pd.concat([convert_, null_[['impressions', 'cost']]], axis=1)"
   ]
  },
  {
   "cell_type": "code",
   "execution_count": 29,
   "id": "027325d2",
   "metadata": {},
   "outputs": [],
   "source": [
    "convert_data['sales'] = model.predict(convert_data)"
   ]
  },
  {
   "cell_type": "code",
   "execution_count": 30,
   "id": "2e6d05db",
   "metadata": {},
   "outputs": [
    {
     "data": {
      "text/html": [
       "<div>\n",
       "<style scoped>\n",
       "    .dataframe tbody tr th:only-of-type {\n",
       "        vertical-align: middle;\n",
       "    }\n",
       "\n",
       "    .dataframe tbody tr th {\n",
       "        vertical-align: top;\n",
       "    }\n",
       "\n",
       "    .dataframe thead th {\n",
       "        text-align: right;\n",
       "    }\n",
       "</style>\n",
       "<table border=\"1\" class=\"dataframe\">\n",
       "  <thead>\n",
       "    <tr style=\"text-align: right;\">\n",
       "      <th></th>\n",
       "      <th>path</th>\n",
       "      <th>impressions</th>\n",
       "      <th>cost</th>\n",
       "      <th>sales</th>\n",
       "    </tr>\n",
       "  </thead>\n",
       "  <tbody>\n",
       "    <tr>\n",
       "      <th>0</th>\n",
       "      <td>2.066577e+07</td>\n",
       "      <td>90</td>\n",
       "      <td>0.26882</td>\n",
       "      <td>148.47</td>\n",
       "    </tr>\n",
       "    <tr>\n",
       "      <th>1</th>\n",
       "      <td>3.169022e+07</td>\n",
       "      <td>180</td>\n",
       "      <td>0.47130</td>\n",
       "      <td>29.63</td>\n",
       "    </tr>\n",
       "    <tr>\n",
       "      <th>2</th>\n",
       "      <td>1.015357e+07</td>\n",
       "      <td>36</td>\n",
       "      <td>0.10622</td>\n",
       "      <td>11.46</td>\n",
       "    </tr>\n",
       "    <tr>\n",
       "      <th>3</th>\n",
       "      <td>1.914966e+07</td>\n",
       "      <td>60</td>\n",
       "      <td>0.14821</td>\n",
       "      <td>11.64</td>\n",
       "    </tr>\n",
       "    <tr>\n",
       "      <th>4</th>\n",
       "      <td>5.683103e+06</td>\n",
       "      <td>36</td>\n",
       "      <td>0.10069</td>\n",
       "      <td>47.04</td>\n",
       "    </tr>\n",
       "    <tr>\n",
       "      <th>5</th>\n",
       "      <td>9.315298e+06</td>\n",
       "      <td>32</td>\n",
       "      <td>0.05849</td>\n",
       "      <td>11.59</td>\n",
       "    </tr>\n",
       "    <tr>\n",
       "      <th>6</th>\n",
       "      <td>8.630853e+06</td>\n",
       "      <td>30</td>\n",
       "      <td>0.09980</td>\n",
       "      <td>12.99</td>\n",
       "    </tr>\n",
       "    <tr>\n",
       "      <th>7</th>\n",
       "      <td>9.440668e+06</td>\n",
       "      <td>34</td>\n",
       "      <td>0.07915</td>\n",
       "      <td>9.42</td>\n",
       "    </tr>\n",
       "    <tr>\n",
       "      <th>8</th>\n",
       "      <td>1.689901e+07</td>\n",
       "      <td>450</td>\n",
       "      <td>1.41547</td>\n",
       "      <td>177.82</td>\n",
       "    </tr>\n",
       "    <tr>\n",
       "      <th>9</th>\n",
       "      <td>6.441972e+06</td>\n",
       "      <td>39</td>\n",
       "      <td>0.11653</td>\n",
       "      <td>24.86</td>\n",
       "    </tr>\n",
       "  </tbody>\n",
       "</table>\n",
       "</div>"
      ],
      "text/plain": [
       "           path  impressions     cost   sales\n",
       "0  2.066577e+07           90  0.26882  148.47\n",
       "1  3.169022e+07          180  0.47130   29.63\n",
       "2  1.015357e+07           36  0.10622   11.46\n",
       "3  1.914966e+07           60  0.14821   11.64\n",
       "4  5.683103e+06           36  0.10069   47.04\n",
       "5  9.315298e+06           32  0.05849   11.59\n",
       "6  8.630853e+06           30  0.09980   12.99\n",
       "7  9.440668e+06           34  0.07915    9.42\n",
       "8  1.689901e+07          450  1.41547  177.82\n",
       "9  6.441972e+06           39  0.11653   24.86"
      ]
     },
     "execution_count": 30,
     "metadata": {},
     "output_type": "execute_result"
    }
   ],
   "source": [
    "convert_data.head(10)"
   ]
  },
  {
   "cell_type": "markdown",
   "id": "7ce45c45",
   "metadata": {},
   "source": [
    "# Use ALL Data"
   ]
  },
  {
   "cell_type": "code",
   "execution_count": 31,
   "id": "702705ca",
   "metadata": {},
   "outputs": [
    {
     "name": "stdout",
     "output_type": "stream",
     "text": [
      "           path  impressions     cost   sales\n",
      "0  2.066577e+07           90  0.26882  148.47\n",
      "1  3.169022e+07          180  0.47130   29.63\n",
      "2  1.015357e+07           36  0.10622   11.46\n",
      "3  1.914966e+07           60  0.14821   11.64\n",
      "4  5.683103e+06           36  0.10069   47.04\n",
      "5  9.315298e+06           32  0.05849   11.59\n",
      "6  8.630853e+06           30  0.09980   12.99\n",
      "7  9.440668e+06           34  0.07915    9.42\n",
      "8  1.689901e+07          450  1.41547  177.82\n",
      "9  6.441972e+06           39  0.11653   24.86\n"
     ]
    }
   ],
   "source": [
    "combined_df = pd.concat([convert_data, encoded_data], ignore_index=True)\n",
    "print(combined_df.head(10))"
   ]
  },
  {
   "cell_type": "code",
   "execution_count": 32,
   "id": "851d2560",
   "metadata": {},
   "outputs": [
    {
     "name": "stdout",
     "output_type": "stream",
     "text": [
      "               path  impressions     cost   sales\n",
      "17234  2.141544e+07           62  0.27239  148.47\n",
      "10257  7.978097e+06           30  0.10318   12.99\n",
      "19466  7.792586e+06         1651  5.07538   62.70\n",
      "12368  5.422142e+06           30  0.09339   47.04\n",
      "960    6.512176e+06           28  0.07925   47.04\n",
      "13911  1.240259e+07           63  0.19956   21.57\n",
      "7348   4.290737e+06           22  0.07389   47.04\n",
      "4702   1.616015e+07           52  0.11978   11.64\n",
      "15176  7.200840e+06           28  0.09709   45.42\n",
      "15793  1.232319e+07           60  0.13200   21.57\n"
     ]
    }
   ],
   "source": [
    "combined_df = combined_df.sample(frac=1, random_state=42)\n",
    "print(combined_df.head(10))"
   ]
  },
  {
   "cell_type": "code",
   "execution_count": 33,
   "id": "9c80fb16",
   "metadata": {},
   "outputs": [
    {
     "name": "stdout",
     "output_type": "stream",
     "text": [
      "DecisionTreeRegressor R2 score: 0.924883\n",
      "DecisionTreeRegressor MAE score: 12.072347\n",
      "DecisionTreeRegressor MSE score: 7917.808732\n",
      "RandomForestRegressor R2 score: 0.950680\n",
      "RandomForestRegressor MAE score: 9.974221\n",
      "RandomForestRegressor MSE score: 5198.611499\n"
     ]
    }
   ],
   "source": [
    "X = combined_df[['path', 'impressions', 'cost']]\n",
    "y = combined_df['sales'] \n",
    "X_train, X_test, y_train, y_test = train_test_split(X, y, test_size=0.2, random_state=42)\n",
    "\n",
    "model.fit(X_train, y_train)\n",
    "y_pred = model.predict(X_test)\n",
    "score = r2_score(y_test, y_pred)\n",
    "print(\"DecisionTreeRegressor R2 score: {:.6f}\".format(score))\n",
    "score = mean_absolute_error(y_test, y_pred)\n",
    "print(\"DecisionTreeRegressor MAE score: {:.6f}\".format(score))\n",
    "score = mean_squared_error(y_test, y_pred)\n",
    "print(\"DecisionTreeRegressor MSE score: {:.6f}\".format(score))\n",
    "\n",
    "\n",
    "rf = RandomForestRegressor(n_estimators=100, random_state=42)\n",
    "rf.fit(X_train, y_train)\n",
    "y_pred = rf.predict(X_test)\n",
    "score = r2_score(y_test, y_pred)\n",
    "print(\"RandomForestRegressor R2 score: {:.6f}\".format(score))\n",
    "score = mean_absolute_error(y_test, y_pred)\n",
    "print(\"RandomForestRegressor MAE score: {:.6f}\".format(score))\n",
    "score = mean_squared_error(y_test, y_pred)\n",
    "print(\"RandomForestRegressor MSE score: {:.6f}\".format(score))"
   ]
  },
  {
   "cell_type": "code",
   "execution_count": 34,
   "id": "cd1e3688",
   "metadata": {},
   "outputs": [],
   "source": [
    "# from sklearn.model_selection import GridSearchCV\n",
    "# RF = RandomForestRegressor(random_state=42)\n",
    "\n",
    "# param_grid={\n",
    "#     'n_estimators': [10, 20, 50, 80, 100, 200, 500, 1000],\n",
    "#             'max_depth': [int(x) for x in np.linspace(10, 110, num = 11)],\n",
    "#             'min_samples_split': [2, 5, 10],\n",
    "#             'min_samples_leaf': [1, 2, 4]\n",
    "#         }\n",
    "\n",
    "# grid = GridSearchCV(\n",
    "# estimator=RF,\n",
    "#         param_grid=param_grid,\n",
    "#         cv=3, scoring='r2', verbose=3, n_jobs=-1)\n",
    "\n",
    "# grid.fit(X_train,y_train)\n",
    "\n",
    "\n",
    "# #print the best parameters from all possible combinations\n",
    "# print(\"best parameters are: \", grid.best_params_)\n",
    "# best = grid.best_estimator_ \n",
    "# y_pred = best.predict(X_test)\n",
    "# score = r2_score(y_test, y_pred)\n",
    "# print(\"new R2 score: {:.6f}\".format(score))"
   ]
  },
  {
   "cell_type": "code",
   "execution_count": null,
   "id": "64a22582",
   "metadata": {},
   "outputs": [],
   "source": []
  }
 ],
 "metadata": {
  "kernelspec": {
   "display_name": "Python 3 (ipykernel)",
   "language": "python",
   "name": "python3"
  },
  "language_info": {
   "codemirror_mode": {
    "name": "ipython",
    "version": 3
   },
   "file_extension": ".py",
   "mimetype": "text/x-python",
   "name": "python",
   "nbconvert_exporter": "python",
   "pygments_lexer": "ipython3",
   "version": "3.9.16"
  }
 },
 "nbformat": 4,
 "nbformat_minor": 5
}
